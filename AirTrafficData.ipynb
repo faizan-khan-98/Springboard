{
 "cells": [
  {
   "cell_type": "code",
   "execution_count": 16,
   "metadata": {},
   "outputs": [
    {
     "data": {
      "text/html": [
       "<div>\n",
       "<style scoped>\n",
       "    .dataframe tbody tr th:only-of-type {\n",
       "        vertical-align: middle;\n",
       "    }\n",
       "\n",
       "    .dataframe tbody tr th {\n",
       "        vertical-align: top;\n",
       "    }\n",
       "\n",
       "    .dataframe thead th {\n",
       "        text-align: right;\n",
       "    }\n",
       "</style>\n",
       "<table border=\"1\" class=\"dataframe\">\n",
       "  <thead>\n",
       "    <tr style=\"text-align: right;\">\n",
       "      <th></th>\n",
       "      <th>Activity Period</th>\n",
       "      <th>Operating Airline</th>\n",
       "      <th>Operating Airline IATA Code</th>\n",
       "      <th>Published Airline</th>\n",
       "      <th>Published Airline IATA Code</th>\n",
       "      <th>GEO Summary</th>\n",
       "      <th>GEO Region</th>\n",
       "      <th>Activity Type Code</th>\n",
       "      <th>Price Category Code</th>\n",
       "      <th>Terminal</th>\n",
       "      <th>Boarding Area</th>\n",
       "      <th>Passenger Count</th>\n",
       "      <th>Adjusted Activity Type Code</th>\n",
       "      <th>Adjusted Passenger Count</th>\n",
       "      <th>Year</th>\n",
       "      <th>Month</th>\n",
       "    </tr>\n",
       "  </thead>\n",
       "  <tbody>\n",
       "    <tr>\n",
       "      <th>0</th>\n",
       "      <td>200507</td>\n",
       "      <td>ATA Airlines</td>\n",
       "      <td>TZ</td>\n",
       "      <td>ATA Airlines</td>\n",
       "      <td>TZ</td>\n",
       "      <td>Domestic</td>\n",
       "      <td>US</td>\n",
       "      <td>Deplaned</td>\n",
       "      <td>Low Fare</td>\n",
       "      <td>Terminal 1</td>\n",
       "      <td>B</td>\n",
       "      <td>27271</td>\n",
       "      <td>Deplaned</td>\n",
       "      <td>27271</td>\n",
       "      <td>2005</td>\n",
       "      <td>July</td>\n",
       "    </tr>\n",
       "    <tr>\n",
       "      <th>1</th>\n",
       "      <td>200507</td>\n",
       "      <td>ATA Airlines</td>\n",
       "      <td>TZ</td>\n",
       "      <td>ATA Airlines</td>\n",
       "      <td>TZ</td>\n",
       "      <td>Domestic</td>\n",
       "      <td>US</td>\n",
       "      <td>Enplaned</td>\n",
       "      <td>Low Fare</td>\n",
       "      <td>Terminal 1</td>\n",
       "      <td>B</td>\n",
       "      <td>29131</td>\n",
       "      <td>Enplaned</td>\n",
       "      <td>29131</td>\n",
       "      <td>2005</td>\n",
       "      <td>July</td>\n",
       "    </tr>\n",
       "    <tr>\n",
       "      <th>2</th>\n",
       "      <td>200507</td>\n",
       "      <td>ATA Airlines</td>\n",
       "      <td>TZ</td>\n",
       "      <td>ATA Airlines</td>\n",
       "      <td>TZ</td>\n",
       "      <td>Domestic</td>\n",
       "      <td>US</td>\n",
       "      <td>Thru / Transit</td>\n",
       "      <td>Low Fare</td>\n",
       "      <td>Terminal 1</td>\n",
       "      <td>B</td>\n",
       "      <td>5415</td>\n",
       "      <td>Thru / Transit * 2</td>\n",
       "      <td>10830</td>\n",
       "      <td>2005</td>\n",
       "      <td>July</td>\n",
       "    </tr>\n",
       "    <tr>\n",
       "      <th>3</th>\n",
       "      <td>200507</td>\n",
       "      <td>Air Canada</td>\n",
       "      <td>AC</td>\n",
       "      <td>Air Canada</td>\n",
       "      <td>AC</td>\n",
       "      <td>International</td>\n",
       "      <td>Canada</td>\n",
       "      <td>Deplaned</td>\n",
       "      <td>Other</td>\n",
       "      <td>Terminal 1</td>\n",
       "      <td>B</td>\n",
       "      <td>35156</td>\n",
       "      <td>Deplaned</td>\n",
       "      <td>35156</td>\n",
       "      <td>2005</td>\n",
       "      <td>July</td>\n",
       "    </tr>\n",
       "    <tr>\n",
       "      <th>4</th>\n",
       "      <td>200507</td>\n",
       "      <td>Air Canada</td>\n",
       "      <td>AC</td>\n",
       "      <td>Air Canada</td>\n",
       "      <td>AC</td>\n",
       "      <td>International</td>\n",
       "      <td>Canada</td>\n",
       "      <td>Enplaned</td>\n",
       "      <td>Other</td>\n",
       "      <td>Terminal 1</td>\n",
       "      <td>B</td>\n",
       "      <td>34090</td>\n",
       "      <td>Enplaned</td>\n",
       "      <td>34090</td>\n",
       "      <td>2005</td>\n",
       "      <td>July</td>\n",
       "    </tr>\n",
       "  </tbody>\n",
       "</table>\n",
       "</div>"
      ],
      "text/plain": [
       "   Activity Period Operating Airline Operating Airline IATA Code  \\\n",
       "0           200507      ATA Airlines                          TZ   \n",
       "1           200507      ATA Airlines                          TZ   \n",
       "2           200507      ATA Airlines                          TZ   \n",
       "3           200507       Air Canada                           AC   \n",
       "4           200507       Air Canada                           AC   \n",
       "\n",
       "  Published Airline Published Airline IATA Code    GEO Summary GEO Region  \\\n",
       "0      ATA Airlines                          TZ       Domestic         US   \n",
       "1      ATA Airlines                          TZ       Domestic         US   \n",
       "2      ATA Airlines                          TZ       Domestic         US   \n",
       "3       Air Canada                           AC  International     Canada   \n",
       "4       Air Canada                           AC  International     Canada   \n",
       "\n",
       "  Activity Type Code Price Category Code    Terminal Boarding Area  \\\n",
       "0           Deplaned            Low Fare  Terminal 1             B   \n",
       "1           Enplaned            Low Fare  Terminal 1             B   \n",
       "2     Thru / Transit            Low Fare  Terminal 1             B   \n",
       "3           Deplaned               Other  Terminal 1             B   \n",
       "4           Enplaned               Other  Terminal 1             B   \n",
       "\n",
       "   Passenger Count Adjusted Activity Type Code  Adjusted Passenger Count  \\\n",
       "0            27271                    Deplaned                     27271   \n",
       "1            29131                    Enplaned                     29131   \n",
       "2             5415          Thru / Transit * 2                     10830   \n",
       "3            35156                    Deplaned                     35156   \n",
       "4            34090                    Enplaned                     34090   \n",
       "\n",
       "   Year Month  \n",
       "0  2005  July  \n",
       "1  2005  July  \n",
       "2  2005  July  \n",
       "3  2005  July  \n",
       "4  2005  July  "
      ]
     },
     "execution_count": 16,
     "metadata": {},
     "output_type": "execute_result"
    }
   ],
   "source": [
    "import pandas as pd\n",
    "import numpy as np\n",
    "\n",
    "airtraffic = pd.read_csv('Air_Traffic_Passenger_Statistics (1).csv')\n",
    "airtraffic.head()"
   ]
  },
  {
   "cell_type": "code",
   "execution_count": 17,
   "metadata": {},
   "outputs": [],
   "source": [
    "airtraffic = airtraffic.drop(columns=['Activity Period', 'Operating Airline','Operating Airline IATA Code','Terminal','Boarding Area','Adjusted Activity Type Code','Adjusted Passenger Count'])"
   ]
  },
  {
   "cell_type": "code",
   "execution_count": 18,
   "metadata": {},
   "outputs": [
    {
     "data": {
      "text/html": [
       "<div>\n",
       "<style scoped>\n",
       "    .dataframe tbody tr th:only-of-type {\n",
       "        vertical-align: middle;\n",
       "    }\n",
       "\n",
       "    .dataframe tbody tr th {\n",
       "        vertical-align: top;\n",
       "    }\n",
       "\n",
       "    .dataframe thead th {\n",
       "        text-align: right;\n",
       "    }\n",
       "</style>\n",
       "<table border=\"1\" class=\"dataframe\">\n",
       "  <thead>\n",
       "    <tr style=\"text-align: right;\">\n",
       "      <th></th>\n",
       "      <th>Published Airline</th>\n",
       "      <th>Published Airline IATA Code</th>\n",
       "      <th>GEO Summary</th>\n",
       "      <th>GEO Region</th>\n",
       "      <th>Activity Type Code</th>\n",
       "      <th>Price Category Code</th>\n",
       "      <th>Passenger Count</th>\n",
       "      <th>Year</th>\n",
       "      <th>Month</th>\n",
       "    </tr>\n",
       "  </thead>\n",
       "  <tbody>\n",
       "    <tr>\n",
       "      <th>0</th>\n",
       "      <td>ATA Airlines</td>\n",
       "      <td>TZ</td>\n",
       "      <td>Domestic</td>\n",
       "      <td>US</td>\n",
       "      <td>Deplaned</td>\n",
       "      <td>Low Fare</td>\n",
       "      <td>27271</td>\n",
       "      <td>2005</td>\n",
       "      <td>July</td>\n",
       "    </tr>\n",
       "    <tr>\n",
       "      <th>1</th>\n",
       "      <td>ATA Airlines</td>\n",
       "      <td>TZ</td>\n",
       "      <td>Domestic</td>\n",
       "      <td>US</td>\n",
       "      <td>Enplaned</td>\n",
       "      <td>Low Fare</td>\n",
       "      <td>29131</td>\n",
       "      <td>2005</td>\n",
       "      <td>July</td>\n",
       "    </tr>\n",
       "    <tr>\n",
       "      <th>2</th>\n",
       "      <td>ATA Airlines</td>\n",
       "      <td>TZ</td>\n",
       "      <td>Domestic</td>\n",
       "      <td>US</td>\n",
       "      <td>Thru / Transit</td>\n",
       "      <td>Low Fare</td>\n",
       "      <td>5415</td>\n",
       "      <td>2005</td>\n",
       "      <td>July</td>\n",
       "    </tr>\n",
       "    <tr>\n",
       "      <th>3</th>\n",
       "      <td>Air Canada</td>\n",
       "      <td>AC</td>\n",
       "      <td>International</td>\n",
       "      <td>Canada</td>\n",
       "      <td>Deplaned</td>\n",
       "      <td>Other</td>\n",
       "      <td>35156</td>\n",
       "      <td>2005</td>\n",
       "      <td>July</td>\n",
       "    </tr>\n",
       "    <tr>\n",
       "      <th>4</th>\n",
       "      <td>Air Canada</td>\n",
       "      <td>AC</td>\n",
       "      <td>International</td>\n",
       "      <td>Canada</td>\n",
       "      <td>Enplaned</td>\n",
       "      <td>Other</td>\n",
       "      <td>34090</td>\n",
       "      <td>2005</td>\n",
       "      <td>July</td>\n",
       "    </tr>\n",
       "  </tbody>\n",
       "</table>\n",
       "</div>"
      ],
      "text/plain": [
       "  Published Airline Published Airline IATA Code    GEO Summary GEO Region  \\\n",
       "0      ATA Airlines                          TZ       Domestic         US   \n",
       "1      ATA Airlines                          TZ       Domestic         US   \n",
       "2      ATA Airlines                          TZ       Domestic         US   \n",
       "3       Air Canada                           AC  International     Canada   \n",
       "4       Air Canada                           AC  International     Canada   \n",
       "\n",
       "  Activity Type Code Price Category Code  Passenger Count  Year Month  \n",
       "0           Deplaned            Low Fare            27271  2005  July  \n",
       "1           Enplaned            Low Fare            29131  2005  July  \n",
       "2     Thru / Transit            Low Fare             5415  2005  July  \n",
       "3           Deplaned               Other            35156  2005  July  \n",
       "4           Enplaned               Other            34090  2005  July  "
      ]
     },
     "execution_count": 18,
     "metadata": {},
     "output_type": "execute_result"
    }
   ],
   "source": [
    "airtraffic.head()"
   ]
  },
  {
   "cell_type": "code",
   "execution_count": 21,
   "metadata": {},
   "outputs": [
    {
     "data": {
      "text/plain": [
       "array(['ATA Airlines', 'Air Canada ', 'Air China', 'Air France',\n",
       "       'Air New Zealand', 'AirTran Airways', 'Alaska Airlines',\n",
       "       'All Nippon Airways', 'American Airlines', 'Asiana Airlines',\n",
       "       'Delta Air Lines', 'BelAir Airlines', 'British Airways',\n",
       "       'Cathay Pacific', 'China Airlines', 'EVA Airways',\n",
       "       'Frontier Airlines', 'Hawaiian Airlines', 'Icelandair',\n",
       "       'Independence Air', 'Japan Airlines', 'KLM Royal Dutch Airlines',\n",
       "       'Korean Air Lines', 'Lufthansa German Airlines', 'US Airways',\n",
       "       'Mexicana Airlines', 'Midwest Airlines', 'Northwest Airlines',\n",
       "       'Philippine Airlines', 'Singapore Airlines',\n",
       "       'United Airlines - Pre 07/01/2013', 'Sun Country Airlines', 'TACA',\n",
       "       'United Airlines', 'Virgin Atlantic', 'WestJet Airlines',\n",
       "       'Boeing Company', 'Miami Air International', 'Qantas Airways',\n",
       "       'Ameriflight', 'Spirit Airlines', 'Xtra Airways',\n",
       "       'Evergreen International Airlines', 'Aeromexico',\n",
       "       'JetBlue Airways ', 'Southwest Airlines', 'Virgin America',\n",
       "       'Aer Lingus', 'Allegiant Air', 'Jet Airways', 'Emirates ',\n",
       "       'World Airways', 'Air Berlin', 'Republic Airlines', 'Servisair',\n",
       "       'Pacific Aviation', 'Swiss International', 'LAN Peru',\n",
       "       'Swissport USA', 'XL Airways France', 'China Eastern',\n",
       "       'SAS Airlines', 'Atlas Air, Inc', 'Etihad Airways',\n",
       "       'China Southern', 'Turkish Airlines', 'COPA Airlines, Inc.',\n",
       "       'Air India Limited'], dtype=object)"
      ]
     },
     "execution_count": 21,
     "metadata": {},
     "output_type": "execute_result"
    }
   ],
   "source": [
    "airtraffic['Published Airline'].unique()"
   ]
  },
  {
   "cell_type": "code",
   "execution_count": 24,
   "metadata": {},
   "outputs": [],
   "source": [
    "airtraffic = airtraffic.replace('United Airlines - Pre 07/01/2013','United Airlines')"
   ]
  },
  {
   "cell_type": "code",
   "execution_count": 25,
   "metadata": {},
   "outputs": [
    {
     "data": {
      "text/plain": [
       "array(['ATA Airlines', 'Air Canada ', 'Air China', 'Air France',\n",
       "       'Air New Zealand', 'AirTran Airways', 'Alaska Airlines',\n",
       "       'All Nippon Airways', 'American Airlines', 'Asiana Airlines',\n",
       "       'Delta Air Lines', 'BelAir Airlines', 'British Airways',\n",
       "       'Cathay Pacific', 'China Airlines', 'EVA Airways',\n",
       "       'Frontier Airlines', 'Hawaiian Airlines', 'Icelandair',\n",
       "       'Independence Air', 'Japan Airlines', 'KLM Royal Dutch Airlines',\n",
       "       'Korean Air Lines', 'Lufthansa German Airlines', 'US Airways',\n",
       "       'Mexicana Airlines', 'Midwest Airlines', 'Northwest Airlines',\n",
       "       'Philippine Airlines', 'Singapore Airlines', 'United Airlines',\n",
       "       'Sun Country Airlines', 'TACA', 'Virgin Atlantic',\n",
       "       'WestJet Airlines', 'Boeing Company', 'Miami Air International',\n",
       "       'Qantas Airways', 'Ameriflight', 'Spirit Airlines', 'Xtra Airways',\n",
       "       'Evergreen International Airlines', 'Aeromexico',\n",
       "       'JetBlue Airways ', 'Southwest Airlines', 'Virgin America',\n",
       "       'Aer Lingus', 'Allegiant Air', 'Jet Airways', 'Emirates ',\n",
       "       'World Airways', 'Air Berlin', 'Republic Airlines', 'Servisair',\n",
       "       'Pacific Aviation', 'Swiss International', 'LAN Peru',\n",
       "       'Swissport USA', 'XL Airways France', 'China Eastern',\n",
       "       'SAS Airlines', 'Atlas Air, Inc', 'Etihad Airways',\n",
       "       'China Southern', 'Turkish Airlines', 'COPA Airlines, Inc.',\n",
       "       'Air India Limited'], dtype=object)"
      ]
     },
     "execution_count": 25,
     "metadata": {},
     "output_type": "execute_result"
    }
   ],
   "source": [
    "airtraffic['Published Airline'].unique()"
   ]
  },
  {
   "cell_type": "code",
   "execution_count": 26,
   "metadata": {},
   "outputs": [
    {
     "data": {
      "text/plain": [
       "array(['TZ', 'AC', 'CA', 'AF', 'NZ', 'FL', 'AS', 'NH', 'AA', 'OZ', 'DL',\n",
       "       '4T', 'BA', 'CX', 'CI', 'BR', 'F9', 'HA', 'FI', 'DH', 'JL', 'KL',\n",
       "       'KE', 'LH', 'US ', 'MX', 'YX', 'NW', 'PR', 'SQ', 'UA', 'SY', 'TA',\n",
       "       'VS', 'WS', nan, 'GL', 'QF', 'A8', 'NK', 'XP', 'EZ', 'AM', 'B6',\n",
       "       'WN', 'VX', 'EI', 'G4', '9W', 'BBB', 'EK', 'WO', 'AB', 'RW', 'LX',\n",
       "       'LP', 'SE', 'MU', 'SK', '5Y', 'EY', 'CZ', 'TK', 'CM', 'AI'],\n",
       "      dtype=object)"
      ]
     },
     "execution_count": 26,
     "metadata": {},
     "output_type": "execute_result"
    }
   ],
   "source": [
    "airtraffic['Published Airline IATA Code'].unique()"
   ]
  },
  {
   "cell_type": "code",
   "execution_count": 27,
   "metadata": {},
   "outputs": [
    {
     "data": {
      "text/plain": [
       "array(['Domestic', 'International'], dtype=object)"
      ]
     },
     "execution_count": 27,
     "metadata": {},
     "output_type": "execute_result"
    }
   ],
   "source": [
    "airtraffic['GEO Summary'].unique()"
   ]
  },
  {
   "cell_type": "code",
   "execution_count": 28,
   "metadata": {},
   "outputs": [
    {
     "data": {
      "text/plain": [
       "array(['US', 'Canada', 'Asia', 'Europe', 'Australia / Oceania', 'Mexico',\n",
       "       'Central America', 'Middle East', 'South America'], dtype=object)"
      ]
     },
     "execution_count": 28,
     "metadata": {},
     "output_type": "execute_result"
    }
   ],
   "source": [
    "airtraffic['GEO Region'].unique()"
   ]
  },
  {
   "cell_type": "code",
   "execution_count": 29,
   "metadata": {},
   "outputs": [
    {
     "data": {
      "text/plain": [
       "array(['Deplaned', 'Enplaned', 'Thru / Transit'], dtype=object)"
      ]
     },
     "execution_count": 29,
     "metadata": {},
     "output_type": "execute_result"
    }
   ],
   "source": [
    "airtraffic['Activity Type Code'].unique()"
   ]
  },
  {
   "cell_type": "code",
   "execution_count": 30,
   "metadata": {},
   "outputs": [
    {
     "data": {
      "text/plain": [
       "array(['Low Fare', 'Other'], dtype=object)"
      ]
     },
     "execution_count": 30,
     "metadata": {},
     "output_type": "execute_result"
    }
   ],
   "source": [
    "airtraffic['Price Category Code'].unique()"
   ]
  },
  {
   "cell_type": "code",
   "execution_count": 39,
   "metadata": {},
   "outputs": [
    {
     "name": "stdout",
     "output_type": "stream",
     "text": [
      "Published Airline               0\n",
      "Published Airline IATA Code    54\n",
      "GEO Summary                     0\n",
      "GEO Region                      0\n",
      "Activity Type Code              0\n",
      "Price Category Code             0\n",
      "Passenger Count                 0\n",
      "Year                            0\n",
      "Month                           0\n",
      "dtype: int64\n"
     ]
    }
   ],
   "source": [
    "print(airtraffic.isnull().sum())"
   ]
  },
  {
   "cell_type": "code",
   "execution_count": 40,
   "metadata": {},
   "outputs": [],
   "source": [
    "airtraffic = airtraffic.drop(columns=['Published Airline IATA Code'])"
   ]
  },
  {
   "cell_type": "code",
   "execution_count": 43,
   "metadata": {},
   "outputs": [],
   "source": [
    "airtraffic = airtraffic[['Month','Year','Published Airline','Passenger Count','GEO Summary','GEO Region','Activity Type Code','Price Category Code']]"
   ]
  },
  {
   "cell_type": "code",
   "execution_count": 44,
   "metadata": {},
   "outputs": [
    {
     "data": {
      "text/html": [
       "<div>\n",
       "<style scoped>\n",
       "    .dataframe tbody tr th:only-of-type {\n",
       "        vertical-align: middle;\n",
       "    }\n",
       "\n",
       "    .dataframe tbody tr th {\n",
       "        vertical-align: top;\n",
       "    }\n",
       "\n",
       "    .dataframe thead th {\n",
       "        text-align: right;\n",
       "    }\n",
       "</style>\n",
       "<table border=\"1\" class=\"dataframe\">\n",
       "  <thead>\n",
       "    <tr style=\"text-align: right;\">\n",
       "      <th></th>\n",
       "      <th>Month</th>\n",
       "      <th>Year</th>\n",
       "      <th>Published Airline</th>\n",
       "      <th>Passenger Count</th>\n",
       "      <th>GEO Summary</th>\n",
       "      <th>GEO Region</th>\n",
       "      <th>Activity Type Code</th>\n",
       "      <th>Price Category Code</th>\n",
       "    </tr>\n",
       "  </thead>\n",
       "  <tbody>\n",
       "    <tr>\n",
       "      <th>0</th>\n",
       "      <td>July</td>\n",
       "      <td>2005</td>\n",
       "      <td>ATA Airlines</td>\n",
       "      <td>27271</td>\n",
       "      <td>Domestic</td>\n",
       "      <td>US</td>\n",
       "      <td>Deplaned</td>\n",
       "      <td>Low Fare</td>\n",
       "    </tr>\n",
       "    <tr>\n",
       "      <th>1</th>\n",
       "      <td>July</td>\n",
       "      <td>2005</td>\n",
       "      <td>ATA Airlines</td>\n",
       "      <td>29131</td>\n",
       "      <td>Domestic</td>\n",
       "      <td>US</td>\n",
       "      <td>Enplaned</td>\n",
       "      <td>Low Fare</td>\n",
       "    </tr>\n",
       "    <tr>\n",
       "      <th>2</th>\n",
       "      <td>July</td>\n",
       "      <td>2005</td>\n",
       "      <td>ATA Airlines</td>\n",
       "      <td>5415</td>\n",
       "      <td>Domestic</td>\n",
       "      <td>US</td>\n",
       "      <td>Thru / Transit</td>\n",
       "      <td>Low Fare</td>\n",
       "    </tr>\n",
       "    <tr>\n",
       "      <th>3</th>\n",
       "      <td>July</td>\n",
       "      <td>2005</td>\n",
       "      <td>Air Canada</td>\n",
       "      <td>35156</td>\n",
       "      <td>International</td>\n",
       "      <td>Canada</td>\n",
       "      <td>Deplaned</td>\n",
       "      <td>Other</td>\n",
       "    </tr>\n",
       "    <tr>\n",
       "      <th>4</th>\n",
       "      <td>July</td>\n",
       "      <td>2005</td>\n",
       "      <td>Air Canada</td>\n",
       "      <td>34090</td>\n",
       "      <td>International</td>\n",
       "      <td>Canada</td>\n",
       "      <td>Enplaned</td>\n",
       "      <td>Other</td>\n",
       "    </tr>\n",
       "  </tbody>\n",
       "</table>\n",
       "</div>"
      ],
      "text/plain": [
       "  Month  Year Published Airline  Passenger Count    GEO Summary GEO Region  \\\n",
       "0  July  2005      ATA Airlines            27271       Domestic         US   \n",
       "1  July  2005      ATA Airlines            29131       Domestic         US   \n",
       "2  July  2005      ATA Airlines             5415       Domestic         US   \n",
       "3  July  2005       Air Canada             35156  International     Canada   \n",
       "4  July  2005       Air Canada             34090  International     Canada   \n",
       "\n",
       "  Activity Type Code Price Category Code  \n",
       "0           Deplaned            Low Fare  \n",
       "1           Enplaned            Low Fare  \n",
       "2     Thru / Transit            Low Fare  \n",
       "3           Deplaned               Other  \n",
       "4           Enplaned               Other  "
      ]
     },
     "execution_count": 44,
     "metadata": {},
     "output_type": "execute_result"
    }
   ],
   "source": [
    "airtraffic.head()"
   ]
  },
  {
   "cell_type": "code",
   "execution_count": null,
   "metadata": {},
   "outputs": [],
   "source": []
  }
 ],
 "metadata": {
  "kernelspec": {
   "display_name": "Python 3",
   "language": "python",
   "name": "python3"
  },
  "language_info": {
   "codemirror_mode": {
    "name": "ipython",
    "version": 3
   },
   "file_extension": ".py",
   "mimetype": "text/x-python",
   "name": "python",
   "nbconvert_exporter": "python",
   "pygments_lexer": "ipython3",
   "version": "3.8.3"
  }
 },
 "nbformat": 4,
 "nbformat_minor": 4
}
